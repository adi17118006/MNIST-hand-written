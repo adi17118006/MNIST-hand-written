{
 "cells": [
  {
   "cell_type": "markdown",
   "metadata": {},
   "source": [
    "## Import packages"
   ]
  },
  {
   "cell_type": "code",
   "execution_count": 1,
   "metadata": {},
   "outputs": [
    {
     "name": "stdout",
     "output_type": "stream",
     "text": [
      "Extracting MNIST_data/train-images-idx3-ubyte.gz\n",
      "Extracting MNIST_data/train-labels-idx1-ubyte.gz\n",
      "Extracting MNIST_data/t10k-images-idx3-ubyte.gz\n",
      "Extracting MNIST_data/t10k-labels-idx1-ubyte.gz\n"
     ]
    }
   ],
   "source": [
    "import numpy as np\n",
    "import tensorflow as tf\n",
    "from tensorflow.examples.tutorials.mnist import input_data\n",
    "mnist = input_data.read_data_sets(\"MNIST_data/\", one_hot=True)"
   ]
  },
  {
   "cell_type": "code",
   "execution_count": 59,
   "metadata": {},
   "outputs": [
    {
     "name": "stdout",
     "output_type": "stream",
     "text": [
      "Epoch 1. Mean loss: 0.389. Validation loss: 0.165. Validation accuracy: 96.34%\n",
      "Epoch 2. Mean loss: 0.134. Validation loss: 0.137. Validation accuracy: 97.20%\n",
      "Epoch 3. Mean loss: 0.104. Validation loss: 0.127. Validation accuracy: 97.26%\n",
      "Epoch 4. Mean loss: 0.083. Validation loss: 0.120. Validation accuracy: 97.44%\n",
      "Epoch 5. Mean loss: 0.072. Validation loss: 0.114. Validation accuracy: 97.78%\n",
      "Epoch 6. Mean loss: 0.067. Validation loss: 0.112. Validation accuracy: 98.06%\n",
      "Epoch 7. Mean loss: 0.051. Validation loss: 0.087. Validation accuracy: 98.20%\n",
      "Epoch 8. Mean loss: 0.054. Validation loss: 0.107. Validation accuracy: 97.92%\n",
      "End of training.\n",
      "Training time: 15260.310102462769 seconds\n"
     ]
    }
   ],
   "source": [
    "input_size = 784\n",
    "output_size = 10\n",
    "hidden_layer_size = 5000\n",
    "\n",
    "# Reset any variables left in memory from previous runs.\n",
    "tf.reset_default_graph()\n",
    "\n",
    "# declare placeholders where the data will be fed into.\n",
    "inputs = tf.placeholder(tf.float32, [None, input_size])\n",
    "targets = tf.placeholder(tf.float32, [None, output_size])\n",
    "\n",
    "# Use get_variable in order to make use of the default TensorFlow initializer which is Xavier.\n",
    "weights_1 = tf.get_variable(\"weights_1\", [input_size, hidden_layer_size])\n",
    "biases_1 = tf.get_variable(\"biases_1\", [hidden_layer_size])\n",
    "\n",
    "outputs_1 = tf.nn.relu(tf.matmul(inputs, weights_1) + biases_1)\n",
    "\n",
    "weights_2 = tf.get_variable(\"weights_2\", [hidden_layer_size, hidden_layer_size])\n",
    "biases_2 = tf.get_variable(\"biases_2\", [hidden_layer_size])\n",
    "\n",
    "outputs_2 = tf.nn.relu(tf.matmul(outputs_1, weights_2) + biases_2)\n",
    "\n",
    "weights_3 = tf.get_variable(\"weights_3\", [hidden_layer_size, hidden_layer_size])\n",
    "biases_3 = tf.get_variable(\"biases_3\", [hidden_layer_size])\n",
    "\n",
    "outputs_3 = tf.nn.relu(tf.matmul(outputs_2,weights_3) + biases_3)\n",
    "\n",
    "weights_4 = tf.get_variable(\"weights_4\", [hidden_layer_size, hidden_layer_size])\n",
    "biases_4 = tf.get_variable(\"biases_4\", [hidden_layer_size])\n",
    "outputs_4 = tf.nn.relu(tf.matmul(outputs_3,weights_4) + biases_4)\n",
    "\n",
    "weights_5 = tf.get_variable(\"weights_5\", [hidden_layer_size, hidden_layer_size])\n",
    "biases_5 = tf.get_variable(\"biases_5\", [hidden_layer_size])\n",
    "outputs_5 = tf.nn.relu(tf.matmul(outputs_4,weights_5) + biases_5)\n",
    "\n",
    "weights_6 = tf.get_variable(\"weights_6\", [hidden_layer_size, hidden_layer_size])\n",
    "biases_6 = tf.get_variable(\"biases_6\", [hidden_layer_size])\n",
    "outputs_6 = tf.nn.relu(tf.matmul(outputs_5,weights_6) + biases_6)\n",
    "\n",
    "weights_7 = tf.get_variable(\"weights_7\", [hidden_layer_size, hidden_layer_size])\n",
    "biases_7 = tf.get_variable(\"biases_7\", [hidden_layer_size])\n",
    "outputs_7 = tf.nn.relu(tf.matmul(outputs_6,weights_7) + biases_7)\n",
    "\n",
    "weights_8 = tf.get_variable(\"weights_8\", [hidden_layer_size, hidden_layer_size])\n",
    "biases_8 = tf.get_variable(\"biases_8\", [hidden_layer_size])\n",
    "outputs_8 = tf.nn.relu(tf.matmul(outputs_7,weights_8) + biases_8)\n",
    "\n",
    "weights_9 = tf.get_variable(\"weights_9\", [hidden_layer_size, hidden_layer_size])\n",
    "biases_9 = tf.get_variable(\"biases_9\", [hidden_layer_size])\n",
    "outputs_9 = tf.nn.relu(tf.matmul(outputs_8,weights_9) + biases_9)\n",
    "\n",
    "weights_10 = tf.get_variable(\"weights_10\", [hidden_layer_size, hidden_layer_size])\n",
    "biases_10 = tf.get_variable(\"biases_10\", [hidden_layer_size])\n",
    "outputs_10 = tf.nn.relu(tf.matmul(outputs_9,weights_10) + biases_10)\n",
    "\n",
    "weights_11 = tf.get_variable(\"weights_11\", [hidden_layer_size, output_size])\n",
    "biases_11 = tf.get_variable(\"biases_11\", [output_size])\n",
    "\n",
    "outputs = tf.matmul(outputs_10, weights_11) + biases_11\n",
    "\n",
    "loss = tf.nn.softmax_cross_entropy_with_logits(logits=outputs, labels=targets)\n",
    "\n",
    "# average loss\n",
    "mean_loss = tf.reduce_mean(loss)\n",
    "\n",
    "#  Using adaptive optimizers such as Adam in TensorFlow\n",
    "optimize = tf.train.AdamOptimizer(learning_rate=0.0002).minimize(mean_loss)\n",
    "\n",
    "out_equals_target = tf.equal(tf.argmax(outputs, 1), tf.argmax(targets, 1))\n",
    "\n",
    "accuracy = tf.reduce_mean(tf.cast(out_equals_target, tf.float32))\n",
    "\n",
    "sess = tf.InteractiveSession()\n",
    "initializer = tf.global_variables_initializer()\n",
    "sess.run(initializer)\n",
    "\n",
    "# Batching\n",
    "batch_size = 150\n",
    "\n",
    "# the number of batches per epoch for the training set.\n",
    "batches_number = mnist.train._num_examples // batch_size\n",
    "\n",
    "max_epochs = 50\n",
    "\n",
    "prev_validation_loss = 9999999.\n",
    "\n",
    "import time\n",
    "start_time = time.time()\n",
    "\n",
    "for epoch_counter in range(max_epochs):\n",
    "    \n",
    "    curr_epoch_loss = 0.\n",
    "    \n",
    "    # Iterate over the batches in this epoch.\n",
    "    for batch_counter in range(batches_number):\n",
    "        \n",
    "        input_batch, target_batch = mnist.train.next_batch(batch_size)\n",
    "        \n",
    "        _, batch_loss = sess.run([optimize, mean_loss], \n",
    "            feed_dict={inputs: input_batch, targets: target_batch})\n",
    "        \n",
    "        curr_epoch_loss += batch_loss\n",
    "    \n",
    "    curr_epoch_loss /= batches_number\n",
    "    \n",
    "    input_batch, target_batch = mnist.validation.next_batch(mnist.validation._num_examples)\n",
    "    \n",
    "    # Runing without the optimization step (simply forward propagate)\n",
    "    validation_loss, validation_accuracy = sess.run([mean_loss, accuracy], \n",
    "        feed_dict={inputs: input_batch, targets: target_batch})\n",
    "    \n",
    "    print('Epoch '+str(epoch_counter+1)+\n",
    "          '. Mean loss: '+'{0:.3f}'.format(curr_epoch_loss)+\n",
    "          '. Validation loss: '+'{0:.3f}'.format(validation_loss)+\n",
    "          '. Validation accuracy: '+'{0:.2f}'.format(validation_accuracy * 100.)+'%')\n",
    "    \n",
    "    # For early stopping if validation loss begins increasing.\n",
    "    if validation_loss > prev_validation_loss:\n",
    "        break\n",
    "    prev_validation_loss = validation_loss\n",
    "print('End of training.')\n",
    "\n",
    "print(\"Training time: %s seconds\" % (time.time() - start_time))"
   ]
  },
  {
   "cell_type": "code",
   "execution_count": 60,
   "metadata": {},
   "outputs": [
    {
     "name": "stdout",
     "output_type": "stream",
     "text": [
      "Test accuracy: 97.72%\n"
     ]
    }
   ],
   "source": [
    "input_batch, target_batch = mnist.test.next_batch(mnist.test._num_examples)\n",
    "test_accuracy = sess.run([accuracy], \n",
    "    feed_dict={inputs: input_batch, targets: target_batch})\n",
    "\n",
    "\n",
    "test_accuracy_percent = test_accuracy[0] * 100.\n",
    "\n",
    "# the test accuracy formatted in percentages\n",
    "print('Test accuracy: '+'{0:.2f}'.format(test_accuracy_percent)+'%')"
   ]
  }
 ],
 "metadata": {
  "kernelspec": {
   "display_name": "Python 3",
   "language": "python",
   "name": "python3"
  },
  "language_info": {
   "codemirror_mode": {
    "name": "ipython",
    "version": 3
   },
   "file_extension": ".py",
   "mimetype": "text/x-python",
   "name": "python",
   "nbconvert_exporter": "python",
   "pygments_lexer": "ipython3",
   "version": "3.7.0"
  }
 },
 "nbformat": 4,
 "nbformat_minor": 2
}
